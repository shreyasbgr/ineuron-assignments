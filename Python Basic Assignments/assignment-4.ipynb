{
 "cells": [
  {
   "cell_type": "code",
   "execution_count": null,
   "id": "c4fa10b7",
   "metadata": {},
   "outputs": [],
   "source": [
    "1. What exactly is []?\n",
    "\n",
    "[] is an empty list. It is a list which does not contain any elements."
   ]
  },
  {
   "cell_type": "code",
   "execution_count": null,
   "id": "30ba6392",
   "metadata": {},
   "outputs": [],
   "source": [
    "2. In a list of values stored in a variable called spam, how would you assign the value 'hello' as the third value? \n",
    "(Assume [2, 4, 6, 8, 10] are in spam.)\n",
    "\n",
    "spam[2]='hello'. This command will store 'hello' as the third value of spam list."
   ]
  },
  {
   "cell_type": "code",
   "execution_count": null,
   "id": "b53c3522",
   "metadata": {},
   "outputs": [],
   "source": [
    "Let's pretend the spam includes the list ['a', 'b', 'c', 'd'] for the next three queries.\n",
    "3. What is the value of spam[int(int('3' * 2) / 11)]?\n",
    "\n",
    "The value of the above expression is 'd'."
   ]
  },
  {
   "cell_type": "code",
   "execution_count": null,
   "id": "e821b687",
   "metadata": {},
   "outputs": [],
   "source": [
    "4. What is the value of spam[-1]?\n",
    "\n",
    "The value of the above expression is 'd'."
   ]
  },
  {
   "cell_type": "code",
   "execution_count": null,
   "id": "d7a5999f",
   "metadata": {},
   "outputs": [],
   "source": [
    "5. What is the value of spam[:2]?\n",
    "\n",
    "The value is ['a','b']"
   ]
  },
  {
   "cell_type": "code",
   "execution_count": null,
   "id": "7f3249ed",
   "metadata": {},
   "outputs": [],
   "source": [
    "Let's pretend bacon has the list [3.14, 'cat,' 11, 'cat,' True] for the next three questions.\n",
    "6. What is the value of bacon.index('cat')?\n",
    "\n",
    "The value is 1."
   ]
  },
  {
   "cell_type": "code",
   "execution_count": null,
   "id": "9eb7bd5a",
   "metadata": {},
   "outputs": [],
   "source": [
    "7. How does bacon.append(99) change the look of the list value in bacon?\n",
    "\n",
    "The new bacon list would be [3.14, 'cat', 11, 'cat', True, 99]. So, 99 is added to the end of the bacon list"
   ]
  },
  {
   "cell_type": "code",
   "execution_count": null,
   "id": "927c084d",
   "metadata": {},
   "outputs": [],
   "source": [
    "8. How does bacon.remove('cat') change the look of the list in bacon?\n",
    "\n",
    "The new bacon list would be [3.14, 11, 'cat', True]. So, the first occurence of 'cat' would get removed from the bacon list."
   ]
  },
  {
   "cell_type": "code",
   "execution_count": null,
   "id": "0f626f66",
   "metadata": {},
   "outputs": [],
   "source": [
    "9. What are the list concatenation and list replication operators?\n",
    "\n",
    "list concatenation operator (+) is used to concatenate two lists. For eg-\n",
    "list1=[1,2,3]\n",
    "list2=[4,5,6]\n",
    "list3=list1+list2\n",
    "In the above example, list3 would contain [1,2,3,4,5,6]\n",
    "\n",
    "The list replication operator(*) is used to replicate all the elements of a list for a given number of times. For eg-\n",
    "list4=[2,3]\n",
    "list5=list4*2\n",
    "In the above example, list5 would contain [2,3,2,3]"
   ]
  },
  {
   "cell_type": "code",
   "execution_count": null,
   "id": "0b6b7620",
   "metadata": {},
   "outputs": [],
   "source": [
    "10. What is difference between the list methods append() and insert()?\n",
    "\n",
    "The append() function appends a value to the end of a list. So, if list1=[1,2,3] and list1.append(4) is executed, the list1\n",
    "would now look like [1,2,3,4].\n",
    "\n",
    "The insert function can be used to insert an element at a specified index of a list. For eg- list1=[1,2,3] and list1.insert(1,7)\n",
    "is executed, the element 7 is inserted at the index 1 in the list1. So list1 would contain [1,7,2,3]."
   ]
  },
  {
   "cell_type": "code",
   "execution_count": null,
   "id": "7b593cc6",
   "metadata": {},
   "outputs": [],
   "source": [
    "11. What are the two methods for removing items from a list?\n",
    "\n",
    "The two methods to remove items from a list are- pop() and remove(). \n",
    "The pop() function removes an element from the end of thelist, or if pop(i) is executed, removes an element at the\n",
    "i'th index of the list.\n",
    "The remove() function removes the first occurence of a particular value from a list."
   ]
  },
  {
   "cell_type": "code",
   "execution_count": null,
   "id": "e7587a14",
   "metadata": {},
   "outputs": [],
   "source": [
    "12. Describe how list values and string values are identical.\n",
    "\n",
    "The list values as well as the string values can be indexed. So, the value at a particular index can be accessed in a string\n",
    "as well as a list. Also, slicing operation can be performed on both list values as well as string values."
   ]
  },
  {
   "cell_type": "code",
   "execution_count": null,
   "id": "7daa5363",
   "metadata": {},
   "outputs": [],
   "source": [
    "13. What's the difference between tuples and lists?\n",
    "\n",
    "Lists are mutable wheras tuples are immutable. This implies that a particular element of a list can be changed however a\n",
    "particular element of a tuple can never be modified"
   ]
  },
  {
   "cell_type": "code",
   "execution_count": null,
   "id": "768db11c",
   "metadata": {},
   "outputs": [],
   "source": [
    "14. How do you type a tuple value that only contains the integer 42?\n",
    "\n",
    "(42,) creates a tuple with one integer - 42."
   ]
  },
  {
   "cell_type": "code",
   "execution_count": 28,
   "id": "36f728f7",
   "metadata": {},
   "outputs": [],
   "source": [
    "15. How do you get a list value's tuple form? How do you get a tuple value's list form?\n",
    "\n",
    "To get the list value of a tuple, list() function can be used. For instance, list(tup) will give the list value of a tuple tup\n",
    "To get the tuple value of a list, tuple() function can be used. For instance, tuple(list1) will give the tuple value of the\n",
    "list1 list."
   ]
  },
  {
   "cell_type": "code",
   "execution_count": 29,
   "id": "530b5106",
   "metadata": {},
   "outputs": [
    {
     "data": {
      "text/plain": [
       "(42, 67)"
      ]
     },
     "execution_count": 29,
     "metadata": {},
     "output_type": "execute_result"
    }
   ],
   "source": [
    "16. Variables that \"contain\" list values are not necessarily lists themselves. Instead, what do they contain?\n",
    "\n",
    "Variables will contain references to list values rather than list values themselves."
   ]
  },
  {
   "cell_type": "code",
   "execution_count": 72,
   "id": "eecef05f",
   "metadata": {},
   "outputs": [
    {
     "name": "stdout",
     "output_type": "stream",
     "text": [
      "[[77, 5], 7, 8]\n"
     ]
    },
    {
     "data": {
      "text/plain": [
       "[[1, 5], 7, 8]"
      ]
     },
     "execution_count": 72,
     "metadata": {},
     "output_type": "execute_result"
    }
   ],
   "source": [
    "import copy\n",
    "l1=[[1,5],7,8]\n",
    "l2=copy.deepcopy(l1)\n",
    "l1[0][0]=77\n",
    "print(l1)\n",
    "l2"
   ]
  },
  {
   "cell_type": "code",
   "execution_count": null,
   "id": "31ebf136",
   "metadata": {},
   "outputs": [],
   "source": []
  },
  {
   "cell_type": "code",
   "execution_count": null,
   "id": "89caa189",
   "metadata": {},
   "outputs": [],
   "source": []
  }
 ],
 "metadata": {
  "kernelspec": {
   "display_name": "Python 3",
   "language": "python",
   "name": "python3"
  },
  "language_info": {
   "codemirror_mode": {
    "name": "ipython",
    "version": 3
   },
   "file_extension": ".py",
   "mimetype": "text/x-python",
   "name": "python",
   "nbconvert_exporter": "python",
   "pygments_lexer": "ipython3",
   "version": "3.8.8"
  }
 },
 "nbformat": 4,
 "nbformat_minor": 5
}
