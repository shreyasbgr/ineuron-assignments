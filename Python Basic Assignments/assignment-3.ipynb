{
 "cells": [
  {
   "cell_type": "code",
   "execution_count": null,
   "id": "942c09ac",
   "metadata": {},
   "outputs": [],
   "source": [
    "1. Why are functions advantageous to have in your programs?\n",
    "\n",
    "Advantages of functions in Python:\n",
    "    a) Reduces duplication of code\n",
    "    b) Increases modularity of code by decomposing complex problems into smaller pieces.\n",
    "    c) Enables Reuse of code"
   ]
  },
  {
   "cell_type": "code",
   "execution_count": null,
   "id": "d7e49091",
   "metadata": {},
   "outputs": [],
   "source": [
    "2. When does the code in a function run: when it's specified or when it's called?\n",
    "\n",
    "The code in a function is run only when it is called."
   ]
  },
  {
   "cell_type": "code",
   "execution_count": null,
   "id": "c4eca3e8",
   "metadata": {},
   "outputs": [],
   "source": [
    "3. What statement creates a function?\n",
    "\n",
    "Function blocks begin with the keyword def followed by the function name and its parameters within parentheses.\n",
    "The statement def functionname(parameters): creates a function with functionname as the name of the function having parameters\n",
    "    as parameters."
   ]
  },
  {
   "cell_type": "code",
   "execution_count": null,
   "id": "1862ebc7",
   "metadata": {},
   "outputs": [],
   "source": [
    "4. What is the difference between a function and a function call?\n",
    "\n",
    "The def keyword defines a function by giving it a name and defining all its parameters. This is called function definition.\n",
    "Once the basic structure of a function is finalized, function call can be made which will execute the code written inside the\n",
    "function block.\n",
    "To conclude, function definition defines the function wheras the function call executes the function code."
   ]
  },
  {
   "cell_type": "code",
   "execution_count": null,
   "id": "b91b7f3b",
   "metadata": {},
   "outputs": [],
   "source": [
    "5. How many global scopes are there in a Python program? How many local scopes?\n",
    "\n",
    "There is one global scope in a Python program and any variable declared globally is accessible throughout the program. \n",
    "There can be any number of local scopes in a Python program depending upon the number of functions defined in a Python program.\n",
    "Each function in a Python program has its own local scope."
   ]
  },
  {
   "cell_type": "code",
   "execution_count": null,
   "id": "19948238",
   "metadata": {},
   "outputs": [],
   "source": [
    "6. What happens to variables in a local scope when the function call returns?\n",
    "\n",
    "The variables in a local scope are destroyed when the function call returns. Those variables can no longer be accessed after\n",
    "the function call returns."
   ]
  },
  {
   "cell_type": "code",
   "execution_count": null,
   "id": "1944f538",
   "metadata": {},
   "outputs": [],
   "source": [
    "7. What is the concept of a return value? Is it possible to have a return value in an expression?\n",
    "\n",
    "Each function takes some inputs, performs some actions and returns an output to the caller. The output value returned by a\n",
    "function is called its return value. No, it is not possible to have a return value in an expression since the return keyword\n",
    "can only be used inside a function."
   ]
  },
  {
   "cell_type": "code",
   "execution_count": null,
   "id": "c961667b",
   "metadata": {},
   "outputs": [],
   "source": [
    "8. If a function does not have a return statement, what is the return value of a call to that function?\n",
    "\n",
    "Yes, it is possible to have a function without a return statement. Such a function returns None to the caller."
   ]
  },
  {
   "cell_type": "code",
   "execution_count": null,
   "id": "71ecadf9",
   "metadata": {},
   "outputs": [],
   "source": [
    "9. How do you make a function variable refer to the global variable?\n",
    "\n",
    "Using the global keyword, the global variables can be referred to within the function."
   ]
  },
  {
   "cell_type": "code",
   "execution_count": null,
   "id": "07962f45",
   "metadata": {},
   "outputs": [],
   "source": [
    "10. What is the data type of None?\n",
    "\n",
    "The data type of None is NoneType."
   ]
  },
  {
   "cell_type": "code",
   "execution_count": null,
   "id": "cff8742d",
   "metadata": {},
   "outputs": [],
   "source": [
    "11. What does the sentence import areallyourpetsnamederic do?\n",
    "\n",
    "The statement will import the areallyourpetsnamederic module into the current Python program."
   ]
  },
  {
   "cell_type": "code",
   "execution_count": null,
   "id": "01c331ad",
   "metadata": {},
   "outputs": [],
   "source": [
    "12. If you had a bacon() feature in a spam module, what would you call it after importing spam?\n",
    "\n",
    "The function can be called as follows: spam.bacon()"
   ]
  },
  {
   "cell_type": "code",
   "execution_count": null,
   "id": "8fe2e509",
   "metadata": {},
   "outputs": [],
   "source": [
    "13. What can you do to save a programme from crashing if it encounters an error?\n",
    "\n",
    "Exception handling can be used with the try, except clause to handle errors and save a program from crashing."
   ]
  },
  {
   "cell_type": "code",
   "execution_count": null,
   "id": "e0ea1f29",
   "metadata": {},
   "outputs": [],
   "source": [
    "14. What is the purpose of the try clause? What is the purpose of the except clause?\n",
    "\n",
    "The try clause checks if a particular block of code throws an Exception. The suspicious code which might throw an Exception\n",
    "needs to be placed in a try block.\n",
    "The except clause is used to handle the Exception, once the code in the try block throws an exception."
   ]
  }
 ],
 "metadata": {
  "kernelspec": {
   "display_name": "Python 3",
   "language": "python",
   "name": "python3"
  },
  "language_info": {
   "codemirror_mode": {
    "name": "ipython",
    "version": 3
   },
   "file_extension": ".py",
   "mimetype": "text/x-python",
   "name": "python",
   "nbconvert_exporter": "python",
   "pygments_lexer": "ipython3",
   "version": "3.8.8"
  }
 },
 "nbformat": 4,
 "nbformat_minor": 5
}
