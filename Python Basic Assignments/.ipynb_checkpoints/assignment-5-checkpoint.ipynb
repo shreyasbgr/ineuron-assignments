{
 "cells": [
  {
   "cell_type": "code",
   "execution_count": null,
   "id": "a2d80d86",
   "metadata": {},
   "outputs": [],
   "source": [
    "1. What does an empty dictionary's code look like?\n",
    "\n",
    "dict1={}\n",
    "This code creates an empty dictionary called dict1."
   ]
  },
  {
   "cell_type": "code",
   "execution_count": null,
   "id": "a47fe633",
   "metadata": {},
   "outputs": [],
   "source": [
    "2. What is the value of a dictionary value with the key 'foo' and the value 42?\n",
    "\n",
    "dict1={'foo': 42}\n",
    "dict1.values() will display a list of the values in dict1 by the following code, dict_values([42]).\n",
    "Hence the values will contain only one element which is 42."
   ]
  },
  {
   "cell_type": "code",
   "execution_count": null,
   "id": "d4de7d4c",
   "metadata": {},
   "outputs": [],
   "source": [
    "3. What is the most significant distinction between a dictionary and a list?\n",
    "\n",
    "List is an ordered collection wheras dictionary is an unordered collection. Also, lists store values wheras dictionaries store\n",
    "key-value pairs."
   ]
  },
  {
   "cell_type": "code",
   "execution_count": null,
   "id": "9ed48195",
   "metadata": {},
   "outputs": [],
   "source": [
    "4. What happens if you try to access spam['foo'] if spam is {'bar': 100}?\n",
    "\n",
    "We get KeyError when spam['foo'] is accessed."
   ]
  },
  {
   "cell_type": "code",
   "execution_count": null,
   "id": "006c9f9f",
   "metadata": {},
   "outputs": [],
   "source": [
    "5. If a dictionary is stored in spam, what is the difference between the expressions 'cat' in spam and 'cat' in spam.keys()?\n",
    "\n",
    "Both 'cat' in spam and 'cat' in spam.keys() return the same output however, using spam.keys() is slower to execute since it \n",
    "first creates a list of keys and then checks whether the given key is present in the list. Using 'cat' in spam is faster\n",
    "to execute as it checks whether a given key is present in a dictionary within constant time."
   ]
  },
  {
   "cell_type": "code",
   "execution_count": null,
   "id": "3e894af8",
   "metadata": {},
   "outputs": [],
   "source": [
    "6. If a dictionary is stored in spam, what is the difference between the expressions 'cat' in spam and 'cat' in spam.values()?\n",
    "\n",
    "'cat'in spam checks if spam dictionary has the key 'cat' present wheras 'cat' in spam.values() checks if the spam dictionary\n",
    "has the value 'cat' present."
   ]
  },
  {
   "cell_type": "code",
   "execution_count": null,
   "id": "ac26594e",
   "metadata": {},
   "outputs": [],
   "source": [
    "7. What is a shortcut for the following code?\n",
    "if 'color' not in spam:\n",
    "spam['color'] = 'black'\n",
    "\n",
    "Shortcut for the code is,\n",
    "spam['color'] = 'black'\n",
    "If the key 'color' is not present, python will create the key for the spam dictionary."
   ]
  },
  {
   "cell_type": "code",
   "execution_count": null,
   "id": "272cdd8e",
   "metadata": {},
   "outputs": [],
   "source": [
    "8. How do you \"pretty print\" dictionary values using which module and function?\n",
    "\n",
    "dict_test={'hi':1, 'there': 2}\n",
    "Two ways of pretty printing a dictionary in python are:\n",
    "    \n",
    "    1. Using pprint module\n",
    "        \n",
    "        import pprint\n",
    "        pprint.pprint(dict_test)\n",
    "    \n",
    "    2. Using json module\n",
    "        \n",
    "        import json\n",
    "        print(json.dumps(dict_test,sort_keys=False,indent=4))\n",
    "\n",
    "Using the json.dumps() function it is possible to pretty print the whole dictionary even if it contains nested dictionaries."
   ]
  }
 ],
 "metadata": {
  "kernelspec": {
   "display_name": "Python 3.10.1 64-bit ('venv': venv)",
   "language": "python",
   "name": "python3101jvsc74a57bd05c1689314177d83fae410cd00ceedfca1a475ca94fd756aecc1cbae08d9c1937"
  },
  "language_info": {
   "codemirror_mode": {
    "name": "ipython",
    "version": 3
   },
   "file_extension": ".py",
   "mimetype": "text/x-python",
   "name": "python",
   "nbconvert_exporter": "python",
   "pygments_lexer": "ipython3",
   "version": "3.10.1"
  }
 },
 "nbformat": 4,
 "nbformat_minor": 5
}
