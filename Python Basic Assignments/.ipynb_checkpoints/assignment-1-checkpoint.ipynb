{
 "cells": [
  {
   "cell_type": "markdown",
   "id": "0e3c6f19",
   "metadata": {},
   "source": [
    "# Assignment 1"
   ]
  },
  {
   "cell_type": "raw",
   "id": "1cb598a0",
   "metadata": {},
   "source": [
    "1. In the below elements which of them are values or an expression? eg:- values can be integer or string and expressions will be mathematical operators.\n",
    "\n",
    "\n",
    "* = Expression\n",
    "'hello' = Value\n",
    "-87.8 = Value\n",
    "-  = Expression\n",
    "/  = Expression\n",
    "+  = Expression\n",
    "6  = Value\n"
   ]
  },
  {
   "cell_type": "raw",
   "id": "cd3538de",
   "metadata": {},
   "source": [
    " 2. What is the difference between string and variable?\n",
    "\n",
    "Variables - Variables in Python are reserved memory locations to store values. Variables can be used to store values of different data types such as integers, floats and strings.\n",
    "\n",
    "String - String is a data type in Python consisting of contiguous set of characters. eg- 'bus', 'car', 'truck' are strings."
   ]
  },
  {
   "cell_type": "raw",
   "id": "41179670",
   "metadata": {},
   "source": [
    "3. Describe three different data types.\n",
    "\n",
    "Integers - Integer data type store integer values. eg- 3,77,21 are integers.\n",
    "\n",
    "Strings - String data type are used to store a contiguous set of characters in Python. eg- 'hello','hi' are strings.\n",
    "\n",
    "Lists - List data type store a collection of different type of items. eg- A list of fruits can be as follows ['orange','mango','apple']"
   ]
  },
  {
   "cell_type": "raw",
   "id": "48b062e7",
   "metadata": {},
   "source": [
    "4. What is an expression made up of? What do all expressions do?\n",
    "\n",
    "An expression is made up of operators and operands. All expressions produce some other value according to the combination of operators and operands involved in the expression."
   ]
  },
  {
   "cell_type": "raw",
   "id": "d6635853",
   "metadata": {},
   "source": [
    "5. This assignment statements, like spam = 10. What is the difference between an expression and a statement?\n",
    "\n",
    "Expressions are a combination of variables, operators and values that yield a result value. However, statements represents an action or a command. eg- print statements, assignment statements.\n",
    "To conclude, a statement does something wheras an expression evaluates to a value. "
   ]
  },
  {
   "cell_type": "raw",
   "id": "65bfb0d4",
   "metadata": {},
   "source": [
    "6. After running the following code, what does the variable bacon contain?\n",
    "bacon = 22\n",
    "bacon + 1\n",
    "\n",
    "The variable bacon contains 22."
   ]
  },
  {
   "cell_type": "raw",
   "id": "0f055aa2",
   "metadata": {},
   "source": [
    "7. What should the values of the following two terms be?\n",
    "'spam' + 'spamspam'\n",
    "'spam' * 3\n",
    "\n",
    "The value for both the terms would be 'spamspamspam'"
   ]
  },
  {
   "cell_type": "raw",
   "id": "50b3ffea",
   "metadata": {},
   "source": [
    "8. Why is eggs a valid variable name while 100 is invalid?\n",
    "\n",
    "Rules for Python variables:\n",
    "\n",
    "a) A variable name must start with a letter or the underscore character\n",
    "b) A variable name cannot start with a number\n",
    "c) A variable name can only contain alpha-numeric characters and underscores (A-z, 0-9, and _ )\n",
    "d) Variable names are case-sensitive (age, Age and AGE are three different variables)\n",
    "\n",
    "Since 100 starts with a number, it cannot be a valid variable name.\n",
    "Also, since eggs contains all leters, it is a valid variable name."
   ]
  },
  {
   "cell_type": "raw",
   "id": "3531f3bf",
   "metadata": {},
   "source": [
    "9. What three functions can be used to get the integer, floating-point number, or string version of a value?\n",
    "\n",
    "The int(value), float(value) and str(value) functions can be used to get the integer, floating point number and the string version of a value. This is also called Explicit conversion."
   ]
  },
  {
   "cell_type": "raw",
   "id": "afcf801a",
   "metadata": {},
   "source": [
    "10. Why does this expression cause an error? How can you fix it?\n",
    "'I have eaten ' + 99 + ' burritos.'\n",
    "\n",
    "The expression causes an error because a value of string data type and a value of integer data type cannot be added together with the + operator.\n",
    "To fix the error, we can convert 99 to string as follows:\n",
    "\n",
    "'I have eaten ' + str(99) + ' burritos.'"
   ]
  }
 ],
 "metadata": {
  "kernelspec": {
   "display_name": "Python 3",
   "language": "python",
   "name": "python3"
  },
  "language_info": {
   "codemirror_mode": {
    "name": "ipython",
    "version": 3
   },
   "file_extension": ".py",
   "mimetype": "text/x-python",
   "name": "python",
   "nbconvert_exporter": "python",
   "pygments_lexer": "ipython3",
   "version": "3.8.8"
  }
 },
 "nbformat": 4,
 "nbformat_minor": 5
}
