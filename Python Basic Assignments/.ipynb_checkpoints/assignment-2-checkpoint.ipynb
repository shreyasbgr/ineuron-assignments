{
 "cells": [
  {
   "cell_type": "markdown",
   "id": "72d7e115",
   "metadata": {},
   "source": [
    "# Assignment 2"
   ]
  },
  {
   "cell_type": "code",
   "execution_count": null,
   "id": "8342687e",
   "metadata": {},
   "outputs": [],
   "source": [
    "1.What are the two values of the Boolean data type? How do you write them?\n",
    "\n",
    "The two values of the Boolean data type are True and False. They are written as True, False."
   ]
  },
  {
   "cell_type": "code",
   "execution_count": null,
   "id": "b2bc3b6c",
   "metadata": {},
   "outputs": [],
   "source": [
    "2. What are the three different types of Boolean operators?\n",
    "\n",
    "Three different types of Boolean operators: and, or, not."
   ]
  },
  {
   "cell_type": "code",
   "execution_count": null,
   "id": "04f7cb42",
   "metadata": {},
   "outputs": [],
   "source": [
    "3. Make a list of each Boolean operator's truth tables (i.e. every possible combination of Boolean values for the operator\n",
    "and what it evaluate ).\n",
    "\n",
    "Truth table for and operator:\n",
    "   A       B       A and B        \n",
    "   0       0       0\n",
    "   0       1       0 \n",
    "   1       0       0\n",
    "   1       1       1\n",
    "\n",
    "Truth table for or operator:\n",
    "   A       B       A or B        \n",
    "   0       0       0\n",
    "   0       1       1 \n",
    "   1       0       1\n",
    "   1       1       1\n",
    "\n",
    "Truth table for not operator:\n",
    "   A       not A        \n",
    "   0       1\n",
    "   0       1 \n",
    "   1       0\n",
    "   1       0 "
   ]
  },
  {
   "cell_type": "code",
   "execution_count": null,
   "id": "35f4e8bf",
   "metadata": {},
   "outputs": [],
   "source": [
    "4. What are the values of the following expressions?\n",
    "\n",
    "(5 > 4) and (3 == 5)                       False\n",
    "not (5 > 4)                                False\n",
    "(5 > 4) or (3 == 5)                        True\n",
    "not ((5 > 4) or (3 == 5))                  False\n",
    "(True and True) and (True == False)        False\n",
    "(not False) or (not True)                  True\n"
   ]
  },
  {
   "cell_type": "code",
   "execution_count": null,
   "id": "21506ce1",
   "metadata": {},
   "outputs": [],
   "source": [
    "5. What are the six comparison operators?\n",
    "\n",
    "Comparison operators in Python:\n",
    "    \n",
    "    ==         :   checks if the two operands are equal\n",
    "    !=         :   checks if the two operands are not equal\n",
    "    >          :   checks if the left operand is greater than right operand\n",
    "    <          :   checks if the left operand is smaller than right operand\n",
    "    >=         :   checks if the left operand is greater than or equal to the right operand\n",
    "    <=         :   checks if the left operand is smaller than or equal to the right operand"
   ]
  },
  {
   "cell_type": "code",
   "execution_count": null,
   "id": "c66e9f94",
   "metadata": {},
   "outputs": [],
   "source": [
    "6. How do you tell the difference between the equal to and assignment operators?Describe a condition and when you would use one.\n",
    "\n",
    "The assignment operator is = wheras the equal operator is ==.\n",
    "The = operator is used whenever we need to assign a value to a variable. eg- num = 5\n",
    "The == operator is used to check the equality of two operands. eg- a == b"
   ]
  },
  {
   "cell_type": "code",
   "execution_count": null,
   "id": "5d13f6ca",
   "metadata": {},
   "outputs": [],
   "source": [
    "7. Identify the three blocks in this code:\n",
    "spam = 0\n",
    "if spam == 10:\n",
    "print('eggs')\n",
    "if spam > 5:\n",
    "print('bacon')\n",
    "else:\n",
    "print('ham')\n",
    "print('spam')\n",
    "print('spam')\n",
    "\n",
    "Block 1:\n",
    "    if spam == 10:\n",
    "    print('eggs')\n",
    "\n",
    "Block 2:\n",
    "    if spam > 5:\n",
    "    print('bacon')\n",
    "\n",
    "Block 3:\n",
    "    else:\n",
    "    print('ham')\n",
    "    print('spam')\n",
    "    print('spam')"
   ]
  },
  {
   "cell_type": "code",
   "execution_count": null,
   "id": "6cd230db",
   "metadata": {},
   "outputs": [],
   "source": [
    "8. Write code that prints Hello if 1 is stored in spam, prints Howdy if 2 is stored in spam, and prints Greetings!\n",
    "if anything else is stored in spam.\n",
    "\n",
    "if spam == 1:\n",
    "    print('Hello')\n",
    "elif spam == 2:\n",
    "    print('Howdy')\n",
    "else:\n",
    "    print('Greetings!')"
   ]
  },
  {
   "cell_type": "code",
   "execution_count": null,
   "id": "ab0fec7c",
   "metadata": {},
   "outputs": [],
   "source": [
    "9.If your programme is stuck in an endless loop, what keys you’ll press?\n",
    "\n",
    "I would press Ctrl+C button."
   ]
  },
  {
   "cell_type": "code",
   "execution_count": null,
   "id": "7213f1d3",
   "metadata": {},
   "outputs": [],
   "source": [
    "10. How can you tell the difference between break and continue?\n",
    "\n",
    "break keyword will entirely stop the execution of the current loop and will take the control out of the loop.\n",
    "continue keyword will skip the current iteration of the loop and will continue execution of the loop from the next iteration."
   ]
  },
  {
   "cell_type": "code",
   "execution_count": null,
   "id": "76d74bcd",
   "metadata": {},
   "outputs": [],
   "source": [
    "11. In a for loop, what is the difference between range(10), range(0, 10), and range(0, 10, 1)?\n",
    "\n",
    "All the three options - range(10), range(0,10), range(0,10,1) give a list of numbers from 0 through 9 (both inclusive)."
   ]
  },
  {
   "cell_type": "code",
   "execution_count": null,
   "id": "965bfbbd",
   "metadata": {},
   "outputs": [],
   "source": [
    "12. Write a short program that prints the numbers 1 to 10 using a for loop. Then write an equivalent program that \n",
    "prints the numbers 1 to 10 using a while loop.\n",
    "\n",
    "for loop program:\n",
    "    for i in range(1,11):\n",
    "        print(i)\n",
    "\n",
    "while loop program:\n",
    "    i=1\n",
    "    while i<=10:\n",
    "        print(i)\n",
    "        i+=1"
   ]
  },
  {
   "cell_type": "code",
   "execution_count": null,
   "id": "678f3a73",
   "metadata": {},
   "outputs": [],
   "source": [
    "13. If you had a function named bacon() inside a module named spam, how would you call it after importing spam?\n",
    "\n",
    "To call the function bacon() from the module spam, we would write the following syntax:\n",
    "    spam.bacon()"
   ]
  }
 ],
 "metadata": {
  "kernelspec": {
   "display_name": "Python 3",
   "language": "python",
   "name": "python3"
  },
  "language_info": {
   "codemirror_mode": {
    "name": "ipython",
    "version": 3
   },
   "file_extension": ".py",
   "mimetype": "text/x-python",
   "name": "python",
   "nbconvert_exporter": "python",
   "pygments_lexer": "ipython3",
   "version": "3.8.8"
  }
 },
 "nbformat": 4,
 "nbformat_minor": 5
}
