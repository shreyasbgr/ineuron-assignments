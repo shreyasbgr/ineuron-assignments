{
 "cells": [
  {
   "cell_type": "code",
   "execution_count": null,
   "id": "7ff1c8bc",
   "metadata": {},
   "outputs": [],
   "source": [
    "1. What exactly is []?\n",
    "\n",
    "[] is an empty list. It is a list which does not contain any elements."
   ]
  },
  {
   "cell_type": "code",
   "execution_count": null,
   "id": "3007e6f2",
   "metadata": {},
   "outputs": [],
   "source": [
    "2. In a list of values stored in a variable called spam, how would you assign the value 'hello' as the third value? \n",
    "(Assume [2, 4, 6, 8, 10] are in spam.)\n",
    "\n",
    "spam[2]='hello'. This command will store 'hello' as the third value of spam list."
   ]
  },
  {
   "cell_type": "code",
   "execution_count": null,
   "id": "e69a3c52",
   "metadata": {},
   "outputs": [],
   "source": [
    "Let's pretend the spam includes the list ['a', 'b', 'c', 'd'] for the next three queries.\n",
    "3. What is the value of spam[int(int('3' * 2) / 11)]?\n",
    "\n",
    "The value of the above expression is 'd'."
   ]
  },
  {
   "cell_type": "code",
   "execution_count": null,
   "id": "8b3879a1",
   "metadata": {},
   "outputs": [],
   "source": [
    "4. What is the value of spam[-1]?\n",
    "\n",
    "The value of the above expression is 'd'."
   ]
  },
  {
   "cell_type": "code",
   "execution_count": null,
   "id": "84835f91",
   "metadata": {},
   "outputs": [],
   "source": [
    "5. What is the value of spam[:2]?\n",
    "\n",
    "The value is ['a','b']"
   ]
  },
  {
   "cell_type": "code",
   "execution_count": null,
   "id": "ff391d4d",
   "metadata": {},
   "outputs": [],
   "source": [
    "Let's pretend bacon has the list [3.14, 'cat,' 11, 'cat,' True] for the next three questions.\n",
    "6. What is the value of bacon.index('cat')?\n",
    "\n",
    "The value is 1."
   ]
  },
  {
   "cell_type": "code",
   "execution_count": null,
   "id": "7338c96c",
   "metadata": {},
   "outputs": [],
   "source": [
    "7. How does bacon.append(99) change the look of the list value in bacon?\n",
    "\n",
    "The new bacon list would be [3.14, 'cat', 11, 'cat', True, 99]. So, 99 is added to the end of the bacon list"
   ]
  },
  {
   "cell_type": "code",
   "execution_count": null,
   "id": "97808041",
   "metadata": {},
   "outputs": [],
   "source": [
    "8. How does bacon.remove('cat') change the look of the list in bacon?\n",
    "\n",
    "The new bacon list would be [3.14, 11, 'cat', True]. So, the first occurence of 'cat' would get removed from the bacon list."
   ]
  },
  {
   "cell_type": "code",
   "execution_count": null,
   "id": "8a9e951a",
   "metadata": {},
   "outputs": [],
   "source": [
    "9. What are the list concatenation and list replication operators?\n",
    "\n",
    "list concatenation operator (+) is used to concatenate two lists. For eg-\n",
    "list1=[1,2,3]\n",
    "list2=[4,5,6]\n",
    "list3=list1+list2\n",
    "In the above example, list3 would contain [1,2,3,4,5,6]\n",
    "\n",
    "The list replication operator(*) is used to replicate all the elements of a list for a given number of times. For eg-\n",
    "list4=[2,3]\n",
    "list5=list4*2\n",
    "In the above example, list5 would contain [2,3,2,3]"
   ]
  },
  {
   "cell_type": "code",
   "execution_count": null,
   "id": "c22d827b",
   "metadata": {},
   "outputs": [],
   "source": [
    "10. What is difference between the list methods append() and insert()?\n",
    "\n",
    "The append() function appends a value to the end of a list. So, if list1=[1,2,3] and list1.append(4) is executed, the list1\n",
    "would now look like [1,2,3,4].\n",
    "\n",
    "The insert function can be used to insert an element at a specified index of a list. For eg- list1=[1,2,3] and list1.insert(1,7)\n",
    "is executed, the element 7 is inserted at the index 1 in the list1. So list1 would contain [1,7,2,3]."
   ]
  },
  {
   "cell_type": "code",
   "execution_count": null,
   "id": "bcd2fb43",
   "metadata": {},
   "outputs": [],
   "source": [
    "11. What are the two methods for removing items from a list?\n",
    "\n",
    "The two methods to remove items from a list are- pop() and remove(). \n",
    "The pop() function removes an element from the end of thelist, or if pop(i) is executed, removes an element at the\n",
    "i'th index of the list.\n",
    "The remove() function removes the first occurence of a particular value from a list."
   ]
  },
  {
   "cell_type": "code",
   "execution_count": null,
   "id": "11a53992",
   "metadata": {},
   "outputs": [],
   "source": [
    "12. Describe how list values and string values are identical.\n",
    "\n",
    "The list values as well as the string values can be indexed. So, the value at a particular index can be accessed in a string\n",
    "as well as a list. Also, slicing operation can be performed on both list values as well as string values."
   ]
  },
  {
   "cell_type": "code",
   "execution_count": null,
   "id": "94b90dc4",
   "metadata": {},
   "outputs": [],
   "source": [
    "13. What's the difference between tuples and lists?\n",
    "\n",
    "Lists are mutable wheras tuples are immutable. This implies that a particular element of a list can be changed however a\n",
    "particular element of a tuple can never be modified"
   ]
  },
  {
   "cell_type": "code",
   "execution_count": null,
   "id": "3de6c416",
   "metadata": {},
   "outputs": [],
   "source": [
    "14. How do you type a tuple value that only contains the integer 42?\n",
    "\n",
    "(42,) creates a tuple with one integer - 42."
   ]
  },
  {
   "cell_type": "code",
   "execution_count": 28,
   "id": "f4328d59",
   "metadata": {},
   "outputs": [],
   "source": [
    "15. How do you get a list value's tuple form? How do you get a tuple value's list form?\n",
    "\n",
    "To get the list value of a tuple, list() function can be used. For instance, list(tup) will give the list value of a tuple tup\n",
    "To get the tuple value of a list, tuple() function can be used. For instance, tuple(list1) will give the tuple value of the\n",
    "list1 list."
   ]
  },
  {
   "cell_type": "code",
   "execution_count": 29,
   "id": "b0ae12ce",
   "metadata": {},
   "outputs": [
    {
     "data": {
      "text/plain": [
       "(42, 67)"
      ]
     },
     "execution_count": 29,
     "metadata": {},
     "output_type": "execute_result"
    }
   ],
   "source": [
    "16. Variables that \"contain\" list values are not necessarily lists themselves. Instead, what do they contain?\n"
   ]
  },
  {
   "cell_type": "code",
   "execution_count": 33,
   "id": "350a3cb8",
   "metadata": {},
   "outputs": [],
   "source": [
    "l1=[5,7,8]"
   ]
  },
  {
   "cell_type": "code",
   "execution_count": 34,
   "id": "62ebb137",
   "metadata": {},
   "outputs": [
    {
     "data": {
      "text/plain": [
       "list"
      ]
     },
     "execution_count": 34,
     "metadata": {},
     "output_type": "execute_result"
    }
   ],
   "source": [
    "type(l1)"
   ]
  },
  {
   "cell_type": "code",
   "execution_count": null,
   "id": "6c7bc6e5",
   "metadata": {},
   "outputs": [],
   "source": []
  }
 ],
 "metadata": {
  "kernelspec": {
   "display_name": "Python 3",
   "language": "python",
   "name": "python3"
  },
  "language_info": {
   "codemirror_mode": {
    "name": "ipython",
    "version": 3
   },
   "file_extension": ".py",
   "mimetype": "text/x-python",
   "name": "python",
   "nbconvert_exporter": "python",
   "pygments_lexer": "ipython3",
   "version": "3.8.8"
  }
 },
 "nbformat": 4,
 "nbformat_minor": 5
}
